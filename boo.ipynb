{
  "nbformat": 4,
  "nbformat_minor": 0,
  "metadata": {
    "colab": {
      "name": "ready-boo",
      "provenance": [],
      "collapsed_sections": [
        "VvwUfo5uUCBD",
        "PZAjY_daSMR2"
      ],
      "include_colab_link": true
    },
    "kernelspec": {
      "name": "python3",
      "display_name": "Python 3"
    }
  },
  "cells": [
    {
      "cell_type": "markdown",
      "metadata": {
        "id": "view-in-github",
        "colab_type": "text"
      },
      "source": [
        "<a href=\"https://colab.research.google.com/github/ru-corporate/boo/blob/master/boo.ipynb\" target=\"_parent\"><img src=\"https://colab.research.google.com/assets/colab-badge.svg\" alt=\"Open In Colab\"/></a>"
      ]
    },
    {
      "cell_type": "code",
      "metadata": {
        "id": "AuTBeweqQDCo",
        "colab_type": "code",
        "colab": {}
      },
      "source": [
        "!pip uninstall boo -y\n",
        "!pip install --upgrade git+https://github.com/ru-corporate/boo.git@master"
      ],
      "execution_count": 0,
      "outputs": []
    },
    {
      "cell_type": "code",
      "metadata": {
        "id": "MRMvFgSZGf74",
        "colab_type": "code",
        "colab": {}
      },
      "source": [
        "!pip install --upgrade boo"
      ],
      "execution_count": 0,
      "outputs": []
    },
    {
      "cell_type": "code",
      "metadata": {
        "id": "5Nowcta2QI6C",
        "colab_type": "code",
        "colab": {
          "base_uri": "https://localhost:8080/",
          "height": 92
        },
        "outputId": "1f2fdc83-9b88-47f2-8296-67717fb3180c"
      },
      "source": [
        "import boo\n",
        "YEAR = 2018\n",
        "boo.download(YEAR)\n",
        "boo.build(YEAR)"
      ],
      "execution_count": 3,
      "outputs": [
        {
          "output_type": "stream",
          "text": [
            "Already downloaded: /root/.boo/raw2018.csv (1549.0M)\n",
            "Use download(2018, force=True) to overwrite existing file.\n",
            "Already built: /root/.boo/2018.csv (685.4M)\n",
            "Use build(2018, force=True) to overwrite existing file.\n"
          ],
          "name": "stdout"
        }
      ]
    },
    {
      "cell_type": "code",
      "metadata": {
        "id": "CiySNaR36Ras",
        "colab_type": "code",
        "outputId": "53c5beef-6007-45b2-eb5e-13126a03f54a",
        "colab": {
          "base_uri": "https://localhost:8080/",
          "height": 53
        }
      },
      "source": [
        "!ls -s ~/.boo"
      ],
      "execution_count": 0,
      "outputs": [
        {
          "output_type": "stream",
          "text": [
            "total 2288064\n",
            " 701880 2018.csv  1586184 raw2018.csv\n"
          ],
          "name": "stdout"
        }
      ]
    },
    {
      "cell_type": "code",
      "metadata": {
        "id": "IGwyKu_sPJJq",
        "colab_type": "code",
        "outputId": "caff6435-f21e-4805-ba43-d00927cf476e",
        "colab": {
          "base_uri": "https://localhost:8080/",
          "height": 180
        }
      },
      "source": [
        "boo.download(1)\n",
        "boo.build(1)\n",
        "%timeit boo.main.read_intermediate_df(1) \n",
        "df = boo.main.read_intermediate_df(1)"
      ],
      "execution_count": 0,
      "outputs": [
        {
          "output_type": "stream",
          "text": [
            "3 k [00:00, 1095.31 k/s]\n",
            "15 lines [00:00, 11832.72 lines/s]"
          ],
          "name": "stderr"
        },
        {
          "output_type": "stream",
          "text": [
            "Downloading source file for 1 from https://raw.githubusercontent.com/ru-corporate/boo/master/assets/sample1.txt\n",
            "Saved as /root/.boo/raw1.csv (0.0M)\n",
            "Reading from /root/.boo/raw1.csv (0.0M)\n",
            "Saving to /root/.boo/1.csv (does not exist)\n",
            "Saved /root/.boo/1.csv (0.0M)\n"
          ],
          "name": "stdout"
        },
        {
          "output_type": "stream",
          "text": [
            "\n"
          ],
          "name": "stderr"
        },
        {
          "output_type": "stream",
          "text": [
            "100 loops, best of 3: 5.88 ms per loop\n"
          ],
          "name": "stdout"
        }
      ]
    },
    {
      "cell_type": "code",
      "metadata": {
        "id": "VCz1YEA74nCF",
        "colab_type": "code",
        "outputId": "089204df-11d3-4763-c6e5-7ce45de36a46",
        "colab": {
          "base_uri": "https://localhost:8080/",
          "height": 536
        }
      },
      "source": [
        "import boo\n",
        "from boo.dataframe.canonic import (adjust_rub, more_columns, rename_rows, \n",
        "                                   canonic_columns,\n",
        "                                   add_okved_subcode, add_region, add_title)\n",
        "                                   \n",
        "\n",
        "def canonic_df(df):\n",
        "    \"\"\"Преобразовать данные внтури датафрейма:\n",
        "\n",
        "    - Привести все строки к одинаковым единицам измерения (тыс. руб.)\n",
        "    - Убрать  неиспользуемые колонки (date_revised, report_type)\n",
        "    - Новые колонки:\n",
        "        * короткое название компании\n",
        "        * три уровня кода ОКВЭД\n",
        "        * регион (по ИНН)\n",
        "\n",
        "    \"\"\"\n",
        "    df_ = add_okved_subcode(add_region(add_title(df)))\n",
        "    df_ = rename_rows(df_)\n",
        "    df_ = adjust_rub(df_)\n",
        "    return df_[canonic_columns()].set_index('inn')\n",
        "\n",
        "print(\"obtaining source...\")\n",
        "root_df0 = boo.main.read_intermediate_df(YEAR)\n",
        "\n",
        "print(\"canonic_df(df)\")\n",
        "df = root_df0.copy()\n",
        "%timeit canonic_df(df)  \n",
        "\n",
        "print(\"columns\")\n",
        "df = root_df0.copy()\n",
        "%timeit add_okved_subcode(add_region(add_title(df)))\n",
        "\n",
        "print(\"adjust rub\")\n",
        "df = root_df0.copy()\n",
        "%timeit adjust_rub(df)\n",
        "\n",
        "print(\"renaming\")\n",
        "df = root_df0.copy()\n",
        "%timeit rename_rows(df)\n",
        "\n",
        "#%timeit boo.main.read_intermediate_df(2017)\n",
        "#%timeit boo.dataframe.canonic.adjust_rub(root_df)\n",
        "#%timeit boo.main.read_dataframe(2017)\n",
        "\n",
        "#%timeit adjust_rub(root_df)\n",
        "#%timeit more_columns(root_df)\n",
        "#%timeit add_okved_subcode(root_df)\n",
        "#%timeit add_region(root_df)\n",
        "#%timeit add_title(root_df)\n",
        "#%timeit rename_rows(root_df)\n",
        "#%timeit root_df[canonic_columns()].set_index('inn')"
      ],
      "execution_count": 4,
      "outputs": [
        {
          "output_type": "stream",
          "text": [
            "obtaining source...\n",
            "canonic_df(df)\n"
          ],
          "name": "stdout"
        },
        {
          "output_type": "error",
          "ename": "KeyError",
          "evalue": "ignored",
          "traceback": [
            "\u001b[0;31m---------------------------------------------------------------------------\u001b[0m",
            "\u001b[0;31mKeyError\u001b[0m                                  Traceback (most recent call last)",
            "\u001b[0;32m<ipython-input-4-ee43bdfc735a>\u001b[0m in \u001b[0;36m<module>\u001b[0;34m()\u001b[0m\n\u001b[1;32m     26\u001b[0m \u001b[0mprint\u001b[0m\u001b[0;34m(\u001b[0m\u001b[0;34m\"canonic_df(df)\"\u001b[0m\u001b[0;34m)\u001b[0m\u001b[0;34m\u001b[0m\u001b[0;34m\u001b[0m\u001b[0m\n\u001b[1;32m     27\u001b[0m \u001b[0mdf\u001b[0m \u001b[0;34m=\u001b[0m \u001b[0mroot_df0\u001b[0m\u001b[0;34m.\u001b[0m\u001b[0mcopy\u001b[0m\u001b[0;34m(\u001b[0m\u001b[0;34m)\u001b[0m\u001b[0;34m\u001b[0m\u001b[0;34m\u001b[0m\u001b[0m\n\u001b[0;32m---> 28\u001b[0;31m \u001b[0mget_ipython\u001b[0m\u001b[0;34m(\u001b[0m\u001b[0;34m)\u001b[0m\u001b[0;34m.\u001b[0m\u001b[0mmagic\u001b[0m\u001b[0;34m(\u001b[0m\u001b[0;34m'timeit canonic_df(df)'\u001b[0m\u001b[0;34m)\u001b[0m\u001b[0;34m\u001b[0m\u001b[0;34m\u001b[0m\u001b[0m\n\u001b[0m\u001b[1;32m     29\u001b[0m \u001b[0;34m\u001b[0m\u001b[0m\n\u001b[1;32m     30\u001b[0m \u001b[0mprint\u001b[0m\u001b[0;34m(\u001b[0m\u001b[0;34m\"columns\"\u001b[0m\u001b[0;34m)\u001b[0m\u001b[0;34m\u001b[0m\u001b[0;34m\u001b[0m\u001b[0m\n",
            "\u001b[0;32m/usr/local/lib/python3.6/dist-packages/IPython/core/interactiveshell.py\u001b[0m in \u001b[0;36mmagic\u001b[0;34m(self, arg_s)\u001b[0m\n\u001b[1;32m   2158\u001b[0m         \u001b[0mmagic_name\u001b[0m\u001b[0;34m,\u001b[0m \u001b[0m_\u001b[0m\u001b[0;34m,\u001b[0m \u001b[0mmagic_arg_s\u001b[0m \u001b[0;34m=\u001b[0m \u001b[0marg_s\u001b[0m\u001b[0;34m.\u001b[0m\u001b[0mpartition\u001b[0m\u001b[0;34m(\u001b[0m\u001b[0;34m' '\u001b[0m\u001b[0;34m)\u001b[0m\u001b[0;34m\u001b[0m\u001b[0;34m\u001b[0m\u001b[0m\n\u001b[1;32m   2159\u001b[0m         \u001b[0mmagic_name\u001b[0m \u001b[0;34m=\u001b[0m \u001b[0mmagic_name\u001b[0m\u001b[0;34m.\u001b[0m\u001b[0mlstrip\u001b[0m\u001b[0;34m(\u001b[0m\u001b[0mprefilter\u001b[0m\u001b[0;34m.\u001b[0m\u001b[0mESC_MAGIC\u001b[0m\u001b[0;34m)\u001b[0m\u001b[0;34m\u001b[0m\u001b[0;34m\u001b[0m\u001b[0m\n\u001b[0;32m-> 2160\u001b[0;31m         \u001b[0;32mreturn\u001b[0m \u001b[0mself\u001b[0m\u001b[0;34m.\u001b[0m\u001b[0mrun_line_magic\u001b[0m\u001b[0;34m(\u001b[0m\u001b[0mmagic_name\u001b[0m\u001b[0;34m,\u001b[0m \u001b[0mmagic_arg_s\u001b[0m\u001b[0;34m)\u001b[0m\u001b[0;34m\u001b[0m\u001b[0;34m\u001b[0m\u001b[0m\n\u001b[0m\u001b[1;32m   2161\u001b[0m \u001b[0;34m\u001b[0m\u001b[0m\n\u001b[1;32m   2162\u001b[0m     \u001b[0;31m#-------------------------------------------------------------------------\u001b[0m\u001b[0;34m\u001b[0m\u001b[0;34m\u001b[0m\u001b[0;34m\u001b[0m\u001b[0m\n",
            "\u001b[0;32m/usr/local/lib/python3.6/dist-packages/IPython/core/interactiveshell.py\u001b[0m in \u001b[0;36mrun_line_magic\u001b[0;34m(self, magic_name, line)\u001b[0m\n\u001b[1;32m   2079\u001b[0m                 \u001b[0mkwargs\u001b[0m\u001b[0;34m[\u001b[0m\u001b[0;34m'local_ns'\u001b[0m\u001b[0;34m]\u001b[0m \u001b[0;34m=\u001b[0m \u001b[0msys\u001b[0m\u001b[0;34m.\u001b[0m\u001b[0m_getframe\u001b[0m\u001b[0;34m(\u001b[0m\u001b[0mstack_depth\u001b[0m\u001b[0;34m)\u001b[0m\u001b[0;34m.\u001b[0m\u001b[0mf_locals\u001b[0m\u001b[0;34m\u001b[0m\u001b[0;34m\u001b[0m\u001b[0m\n\u001b[1;32m   2080\u001b[0m             \u001b[0;32mwith\u001b[0m \u001b[0mself\u001b[0m\u001b[0;34m.\u001b[0m\u001b[0mbuiltin_trap\u001b[0m\u001b[0;34m:\u001b[0m\u001b[0;34m\u001b[0m\u001b[0;34m\u001b[0m\u001b[0m\n\u001b[0;32m-> 2081\u001b[0;31m                 \u001b[0mresult\u001b[0m \u001b[0;34m=\u001b[0m \u001b[0mfn\u001b[0m\u001b[0;34m(\u001b[0m\u001b[0;34m*\u001b[0m\u001b[0margs\u001b[0m\u001b[0;34m,\u001b[0m\u001b[0;34m**\u001b[0m\u001b[0mkwargs\u001b[0m\u001b[0;34m)\u001b[0m\u001b[0;34m\u001b[0m\u001b[0;34m\u001b[0m\u001b[0m\n\u001b[0m\u001b[1;32m   2082\u001b[0m             \u001b[0;32mreturn\u001b[0m \u001b[0mresult\u001b[0m\u001b[0;34m\u001b[0m\u001b[0;34m\u001b[0m\u001b[0m\n\u001b[1;32m   2083\u001b[0m \u001b[0;34m\u001b[0m\u001b[0m\n",
            "\u001b[0;32m</usr/local/lib/python3.6/dist-packages/decorator.py:decorator-gen-59>\u001b[0m in \u001b[0;36mtimeit\u001b[0;34m(self, line, cell)\u001b[0m\n",
            "\u001b[0;32m/usr/local/lib/python3.6/dist-packages/IPython/core/magic.py\u001b[0m in \u001b[0;36m<lambda>\u001b[0;34m(f, *a, **k)\u001b[0m\n\u001b[1;32m    186\u001b[0m     \u001b[0;31m# but it's overkill for just that one bit of state.\u001b[0m\u001b[0;34m\u001b[0m\u001b[0;34m\u001b[0m\u001b[0;34m\u001b[0m\u001b[0m\n\u001b[1;32m    187\u001b[0m     \u001b[0;32mdef\u001b[0m \u001b[0mmagic_deco\u001b[0m\u001b[0;34m(\u001b[0m\u001b[0marg\u001b[0m\u001b[0;34m)\u001b[0m\u001b[0;34m:\u001b[0m\u001b[0;34m\u001b[0m\u001b[0;34m\u001b[0m\u001b[0m\n\u001b[0;32m--> 188\u001b[0;31m         \u001b[0mcall\u001b[0m \u001b[0;34m=\u001b[0m \u001b[0;32mlambda\u001b[0m \u001b[0mf\u001b[0m\u001b[0;34m,\u001b[0m \u001b[0;34m*\u001b[0m\u001b[0ma\u001b[0m\u001b[0;34m,\u001b[0m \u001b[0;34m**\u001b[0m\u001b[0mk\u001b[0m\u001b[0;34m:\u001b[0m \u001b[0mf\u001b[0m\u001b[0;34m(\u001b[0m\u001b[0;34m*\u001b[0m\u001b[0ma\u001b[0m\u001b[0;34m,\u001b[0m \u001b[0;34m**\u001b[0m\u001b[0mk\u001b[0m\u001b[0;34m)\u001b[0m\u001b[0;34m\u001b[0m\u001b[0;34m\u001b[0m\u001b[0m\n\u001b[0m\u001b[1;32m    189\u001b[0m \u001b[0;34m\u001b[0m\u001b[0m\n\u001b[1;32m    190\u001b[0m         \u001b[0;32mif\u001b[0m \u001b[0mcallable\u001b[0m\u001b[0;34m(\u001b[0m\u001b[0marg\u001b[0m\u001b[0;34m)\u001b[0m\u001b[0;34m:\u001b[0m\u001b[0;34m\u001b[0m\u001b[0;34m\u001b[0m\u001b[0m\n",
            "\u001b[0;32m/usr/local/lib/python3.6/dist-packages/IPython/core/magics/execution.py\u001b[0m in \u001b[0;36mtimeit\u001b[0;34m(self, line, cell)\u001b[0m\n\u001b[1;32m   1055\u001b[0m             \u001b[0mnumber\u001b[0m \u001b[0;34m=\u001b[0m \u001b[0;36m1\u001b[0m\u001b[0;34m\u001b[0m\u001b[0;34m\u001b[0m\u001b[0m\n\u001b[1;32m   1056\u001b[0m             \u001b[0;32mfor\u001b[0m \u001b[0m_\u001b[0m \u001b[0;32min\u001b[0m \u001b[0mrange\u001b[0m\u001b[0;34m(\u001b[0m\u001b[0;36m1\u001b[0m\u001b[0;34m,\u001b[0m \u001b[0;36m10\u001b[0m\u001b[0;34m)\u001b[0m\u001b[0;34m:\u001b[0m\u001b[0;34m\u001b[0m\u001b[0;34m\u001b[0m\u001b[0m\n\u001b[0;32m-> 1057\u001b[0;31m                 \u001b[0mtime_number\u001b[0m \u001b[0;34m=\u001b[0m \u001b[0mtimer\u001b[0m\u001b[0;34m.\u001b[0m\u001b[0mtimeit\u001b[0m\u001b[0;34m(\u001b[0m\u001b[0mnumber\u001b[0m\u001b[0;34m)\u001b[0m\u001b[0;34m\u001b[0m\u001b[0;34m\u001b[0m\u001b[0m\n\u001b[0m\u001b[1;32m   1058\u001b[0m                 \u001b[0mworst_tuning\u001b[0m \u001b[0;34m=\u001b[0m \u001b[0mmax\u001b[0m\u001b[0;34m(\u001b[0m\u001b[0mworst_tuning\u001b[0m\u001b[0;34m,\u001b[0m \u001b[0mtime_number\u001b[0m \u001b[0;34m/\u001b[0m \u001b[0mnumber\u001b[0m\u001b[0;34m)\u001b[0m\u001b[0;34m\u001b[0m\u001b[0;34m\u001b[0m\u001b[0m\n\u001b[1;32m   1059\u001b[0m                 \u001b[0;32mif\u001b[0m \u001b[0mtime_number\u001b[0m \u001b[0;34m>=\u001b[0m \u001b[0;36m0.2\u001b[0m\u001b[0;34m:\u001b[0m\u001b[0;34m\u001b[0m\u001b[0;34m\u001b[0m\u001b[0m\n",
            "\u001b[0;32m/usr/local/lib/python3.6/dist-packages/IPython/core/magics/execution.py\u001b[0m in \u001b[0;36mtimeit\u001b[0;34m(self, number)\u001b[0m\n\u001b[1;32m    137\u001b[0m         \u001b[0mgc\u001b[0m\u001b[0;34m.\u001b[0m\u001b[0mdisable\u001b[0m\u001b[0;34m(\u001b[0m\u001b[0;34m)\u001b[0m\u001b[0;34m\u001b[0m\u001b[0;34m\u001b[0m\u001b[0m\n\u001b[1;32m    138\u001b[0m         \u001b[0;32mtry\u001b[0m\u001b[0;34m:\u001b[0m\u001b[0;34m\u001b[0m\u001b[0;34m\u001b[0m\u001b[0m\n\u001b[0;32m--> 139\u001b[0;31m             \u001b[0mtiming\u001b[0m \u001b[0;34m=\u001b[0m \u001b[0mself\u001b[0m\u001b[0;34m.\u001b[0m\u001b[0minner\u001b[0m\u001b[0;34m(\u001b[0m\u001b[0mit\u001b[0m\u001b[0;34m,\u001b[0m \u001b[0mself\u001b[0m\u001b[0;34m.\u001b[0m\u001b[0mtimer\u001b[0m\u001b[0;34m)\u001b[0m\u001b[0;34m\u001b[0m\u001b[0;34m\u001b[0m\u001b[0m\n\u001b[0m\u001b[1;32m    140\u001b[0m         \u001b[0;32mfinally\u001b[0m\u001b[0;34m:\u001b[0m\u001b[0;34m\u001b[0m\u001b[0;34m\u001b[0m\u001b[0m\n\u001b[1;32m    141\u001b[0m             \u001b[0;32mif\u001b[0m \u001b[0mgcold\u001b[0m\u001b[0;34m:\u001b[0m\u001b[0;34m\u001b[0m\u001b[0;34m\u001b[0m\u001b[0m\n",
            "\u001b[0;32m<magic-timeit>\u001b[0m in \u001b[0;36minner\u001b[0;34m(_it, _timer)\u001b[0m\n",
            "\u001b[0;32m<ipython-input-4-ee43bdfc735a>\u001b[0m in \u001b[0;36mcanonic_df\u001b[0;34m(df)\u001b[0m\n\u001b[1;32m     19\u001b[0m     \u001b[0mdf_\u001b[0m \u001b[0;34m=\u001b[0m \u001b[0mrename_rows\u001b[0m\u001b[0;34m(\u001b[0m\u001b[0mdf_\u001b[0m\u001b[0;34m)\u001b[0m\u001b[0;34m\u001b[0m\u001b[0;34m\u001b[0m\u001b[0m\n\u001b[1;32m     20\u001b[0m     \u001b[0mdf_\u001b[0m \u001b[0;34m=\u001b[0m \u001b[0madjust_rub\u001b[0m\u001b[0;34m(\u001b[0m\u001b[0mdf_\u001b[0m\u001b[0;34m)\u001b[0m\u001b[0;34m\u001b[0m\u001b[0;34m\u001b[0m\u001b[0m\n\u001b[0;32m---> 21\u001b[0;31m     \u001b[0;32mreturn\u001b[0m \u001b[0mdf_\u001b[0m\u001b[0;34m[\u001b[0m\u001b[0mcanonic_columns\u001b[0m\u001b[0;34m(\u001b[0m\u001b[0;34m)\u001b[0m\u001b[0;34m]\u001b[0m\u001b[0;34m.\u001b[0m\u001b[0mset_index\u001b[0m\u001b[0;34m(\u001b[0m\u001b[0;34m'inn'\u001b[0m\u001b[0;34m)\u001b[0m\u001b[0;34m\u001b[0m\u001b[0;34m\u001b[0m\u001b[0m\n\u001b[0m\u001b[1;32m     22\u001b[0m \u001b[0;34m\u001b[0m\u001b[0m\n\u001b[1;32m     23\u001b[0m \u001b[0mprint\u001b[0m\u001b[0;34m(\u001b[0m\u001b[0;34m\"obtaining source...\"\u001b[0m\u001b[0;34m)\u001b[0m\u001b[0;34m\u001b[0m\u001b[0;34m\u001b[0m\u001b[0m\n",
            "\u001b[0;32m/usr/local/lib/python3.6/dist-packages/pandas/core/frame.py\u001b[0m in \u001b[0;36mset_index\u001b[0;34m(self, keys, drop, append, inplace, verify_integrity)\u001b[0m\n\u001b[1;32m   4409\u001b[0m \u001b[0;34m\u001b[0m\u001b[0m\n\u001b[1;32m   4410\u001b[0m         \u001b[0;32mif\u001b[0m \u001b[0mmissing\u001b[0m\u001b[0;34m:\u001b[0m\u001b[0;34m\u001b[0m\u001b[0;34m\u001b[0m\u001b[0m\n\u001b[0;32m-> 4411\u001b[0;31m             \u001b[0;32mraise\u001b[0m \u001b[0mKeyError\u001b[0m\u001b[0;34m(\u001b[0m\u001b[0;34m\"None of {} are in the columns\"\u001b[0m\u001b[0;34m.\u001b[0m\u001b[0mformat\u001b[0m\u001b[0;34m(\u001b[0m\u001b[0mmissing\u001b[0m\u001b[0;34m)\u001b[0m\u001b[0;34m)\u001b[0m\u001b[0;34m\u001b[0m\u001b[0;34m\u001b[0m\u001b[0m\n\u001b[0m\u001b[1;32m   4412\u001b[0m \u001b[0;34m\u001b[0m\u001b[0m\n\u001b[1;32m   4413\u001b[0m         \u001b[0;32mif\u001b[0m \u001b[0minplace\u001b[0m\u001b[0;34m:\u001b[0m\u001b[0;34m\u001b[0m\u001b[0;34m\u001b[0m\u001b[0m\n",
            "\u001b[0;31mKeyError\u001b[0m: \"None of ['inn'] are in the columns\""
          ]
        }
      ]
    },
    {
      "cell_type": "code",
      "metadata": {
        "id": "ncW7RLxtJ6-6",
        "colab_type": "code",
        "colab": {}
      },
      "source": [
        "import pandas as pd\n",
        "import boo\n",
        "\n",
        "zf = pd.DataFrame(dict(title=[\"a\", \"a\"]), index=['333', '4716016979'])\n",
        "\n",
        "def rename_rows2(df):\n",
        "    df = df.copy(deep=True)\n",
        "    RENAME_DICT = {\n",
        "        '2460066195': \"РусГидро\",\n",
        "        '4716016979': \"ФСК ЕЭС\",\n",
        "        '7702038150': \"Московский метрополитен\",\n",
        "        '7721632827': \"Концерн Росэнергоатом\",\n",
        "        '7706664260': \"Атомэнергопром\",\n",
        "        '7703683145': \"Холдинг ВТБ Капитал АЙ БИ\",\n",
        "        '9102048801': \"Черноморнефтегаз\",\n",
        "        '7736036626': \"РИТЭК\"\n",
        "    }\n",
        "    for k, v in RENAME_DICT.items():\n",
        "        df.loc[k, 'title'] = v\n",
        "    return df\n",
        "\n",
        "#print(\"obtaining source...\")\n",
        "#root_df0 = boo.main.read_intermediate_df(2017)\n",
        "\n",
        "#print(\"renaming\")\n",
        "#df = root_df0.copy()\n",
        "#%timeit rename_rows2(df)\n",
        "#del df\n",
        "x = rename_rows2(zf)\n",
        "x"
      ],
      "execution_count": 0,
      "outputs": []
    },
    {
      "cell_type": "code",
      "metadata": {
        "id": "XxkdWnJqpxKK",
        "colab_type": "code",
        "colab": {}
      },
      "source": [
        "def medium_companies(df):\n",
        "    _df = df.query(\"sales > 1_000\") \\\n",
        "            .sort_values(\"sales\", ascending=False)\n",
        "    return to_mln(_df)\n",
        "    \n",
        "\n",
        "def shorthand(df):\n",
        "    return df.rename(columns={'profit_before_tax': 'p',\n",
        "                              'profit_before_tax_lag': 'p_lag',\n",
        "                              'tp_capital': 'cap',\n",
        "                              'tp_capital_lag': 'cap_lag'})"
      ],
      "execution_count": 0,
      "outputs": []
    },
    {
      "cell_type": "code",
      "metadata": {
        "id": "YD-la400CQyT",
        "colab_type": "code",
        "colab": {}
      },
      "source": [
        "import boo\n",
        "from boo.dataframe.util import industry, inn, contains, sort\n",
        "from boo.dataframe.filter import (large_companies, medium_companies,\n",
        "                                  minimal_columns, is_alive, shorthand, \n",
        "                                  to_mln, to_bln)\n",
        "\n",
        "try:\n",
        "  root_df   \n",
        "except NameError:\n",
        "  root_df = boo.read_dataframe(2017)\n",
        "\n",
        "del df  \n",
        "try:   \n",
        "  df\n",
        "except NameError:\n",
        "  df = shorthand(minimal_columns(large_companies(root_df)))\n",
        "\n",
        "\n",
        "print(\"Исходное количество компаний ():               %7i\" % root_df.shape[0])\n",
        "print(\"Действующие крупные компании (после фильтров): %7i\" % df.shape[0])"
      ],
      "execution_count": 0,
      "outputs": []
    },
    {
      "cell_type": "code",
      "metadata": {
        "id": "1QssxgC5qOOl",
        "colab_type": "code",
        "colab": {}
      },
      "source": [
        "df2 = shorthand(medium_companies(root_df)) "
      ],
      "execution_count": 0,
      "outputs": []
    },
    {
      "cell_type": "code",
      "metadata": {
        "id": "i3W6Ez_nia04",
        "colab_type": "code",
        "colab": {}
      },
      "source": [
        "df2.sample(3)['region ok1 ok2 title ta sales p cf'.split(' ')]"
      ],
      "execution_count": 0,
      "outputs": []
    },
    {
      "cell_type": "code",
      "metadata": {
        "id": "H7MT1z8kydro",
        "colab_type": "code",
        "colab": {}
      },
      "source": [
        "contains(df2, \"твое\")['title sales ok1'.split(' ')]\n",
        "industry(df2, 46)\n",
        "#inn(df2, 7743238687)"
      ],
      "execution_count": 0,
      "outputs": []
    },
    {
      "cell_type": "code",
      "metadata": {
        "id": "3ZX2aVxxgndY",
        "colab_type": "code",
        "colab": {}
      },
      "source": [
        "ix = [7717582404, 7709770002, 7702832965,7705440959, 5047085094, 7731522580, \n",
        "      7729355029, 7706741162,\n",
        "      7707099460, 7704256932,4825037471,7706202481, 7705840940,\n",
        "      6166034397, 6166019871\n",
        "     ] \n",
        "cols = ['title','ta','sales', 'sales_lag', 'p', 'p_lag', 'cf_inv', 'paid_fa_investment']\n",
        "hh = inn(df2, ix)[cols].rename(columns=dict(paid_fa_investment='fi'))\n",
        "hh['r'] = (hh.p / hh.sales *100).round(1)\n",
        "hh['r_lag'] = (hh.p_lag / hh.sales_lag *100).round(1)\n",
        "hh['g'] = (hh.sales / hh.sales_lag - 1).round(2) * 100\n",
        "hh['i'] = -(hh.cf_inv / hh.ta).round(2) * 100\n",
        "hh.sort_values('sales', ascending = False)"
      ],
      "execution_count": 0,
      "outputs": []
    },
    {
      "cell_type": "code",
      "metadata": {
        "id": "KWNEhRwK_Ku6",
        "colab_type": "code",
        "colab": {}
      },
      "source": [
        "root_df.columns\n"
      ],
      "execution_count": 0,
      "outputs": []
    },
    {
      "cell_type": "markdown",
      "metadata": {
        "id": "VvwUfo5uUCBD",
        "colab_type": "text"
      },
      "source": [
        "# Примеры выборок"
      ]
    },
    {
      "cell_type": "code",
      "metadata": {
        "id": "JggsrPCbqIqc",
        "colab_type": "code",
        "colab": {}
      },
      "source": [
        "df.query('ta>100').sample(10)"
      ],
      "execution_count": 0,
      "outputs": []
    },
    {
      "cell_type": "code",
      "metadata": {
        "id": "BuLtzYwAkyXn",
        "colab_type": "code",
        "colab": {}
      },
      "source": [
        "# Какие компании не попадают в основные отрасли?\n",
        "exclude = [64,66,46,6,24,49,19,20,35,47,45,29,41,42,61,68]\n",
        "sort(df, \"ta\")[~df.ok1.isin(exclude)].iloc[:20,:]"
      ],
      "execution_count": 0,
      "outputs": []
    },
    {
      "cell_type": "code",
      "metadata": {
        "id": "mb-aZMxUPiPH",
        "colab_type": "code",
        "colab": {}
      },
      "source": [
        "inn(df, 1660056570)"
      ],
      "execution_count": 0,
      "outputs": []
    },
    {
      "cell_type": "code",
      "metadata": {
        "id": "l_F3eE8misRV",
        "colab_type": "code",
        "colab": {}
      },
      "source": [
        "for i in [41, 42]:\n",
        "  print(i, boo.okved.name_v2(i))"
      ],
      "execution_count": 0,
      "outputs": []
    },
    {
      "cell_type": "code",
      "metadata": {
        "id": "sOisIprsjCgT",
        "colab_type": "code",
        "colab": {}
      },
      "source": [
        "industry(df, 42).head(10)"
      ],
      "execution_count": 0,
      "outputs": []
    },
    {
      "cell_type": "code",
      "metadata": {
        "id": "xmyOWtYSlzrG",
        "colab_type": "code",
        "colab": {}
      },
      "source": [
        "contains(df, \"КРОКУС ИНТЕРНЭШНЛ\")"
      ],
      "execution_count": 0,
      "outputs": []
    },
    {
      "cell_type": "code",
      "metadata": {
        "id": "sz_GgwT4ly-A",
        "colab_type": "code",
        "colab": {}
      },
      "source": [
        "contains(df, \"Стройтрансгаз\")"
      ],
      "execution_count": 0,
      "outputs": []
    },
    {
      "cell_type": "code",
      "metadata": {
        "id": "SNtzPGb6nV7a",
        "colab_type": "code",
        "colab": {}
      },
      "source": [
        "contains(df, \"Стройгазмонтаж\")"
      ],
      "execution_count": 0,
      "outputs": []
    },
    {
      "cell_type": "markdown",
      "metadata": {
        "id": "PZAjY_daSMR2",
        "colab_type": "text"
      },
      "source": [
        "# Компании по отраслям "
      ]
    },
    {
      "cell_type": "code",
      "metadata": {
        "id": "zNBb54sgjivH",
        "colab_type": "code",
        "colab": {}
      },
      "source": [
        "for i in boo.okved.all_codes_v2():\n",
        "   x = industry(df.query('ta>5'), i).head(20)\n",
        "   if not x.empty:\n",
        "      print (i, boo.okved.name_v2(i))\n",
        "      print (x.to_string(line_width=200))"
      ],
      "execution_count": 0,
      "outputs": []
    },
    {
      "cell_type": "code",
      "metadata": {
        "id": "H3xshF4wzGMC",
        "colab_type": "code",
        "colab": {}
      },
      "source": [
        "industry(df,56,10) "
      ],
      "execution_count": 0,
      "outputs": []
    },
    {
      "cell_type": "code",
      "metadata": {
        "id": "O4fnUGvF0OOJ",
        "colab_type": "code",
        "colab": {}
      },
      "source": [
        "contains(df, \"бетон\")\n",
        "industry(df, 23, 51)"
      ],
      "execution_count": 0,
      "outputs": []
    }
  ]
}